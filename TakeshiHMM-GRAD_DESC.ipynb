{
 "cells": [
  {
   "cell_type": "code",
   "execution_count": 1,
   "metadata": {},
   "outputs": [
    {
     "data": {
      "application/javascript": [
       "IPython.notebook.set_autosave_interval(0)"
      ]
     },
     "metadata": {},
     "output_type": "display_data"
    },
    {
     "name": "stdout",
     "output_type": "stream",
     "text": [
      "Autosave disabled\n"
     ]
    }
   ],
   "source": [
    "from sklearn.cluster import KMeans\n",
    "import matplotlib.pyplot as plt\n",
    "%matplotlib inline\n",
    "from sklearn.cluster import  MiniBatchKMeans\n",
    "import numpy as np\n",
    "import pandas as pd\n",
    "from __future__ import division\n",
    "\n",
    "%autosave 0 "
   ]
  },
  {
   "cell_type": "code",
   "execution_count": 2,
   "metadata": {},
   "outputs": [],
   "source": [
    "\n",
    "\n",
    "class HMM (object):\n",
    "             def __init__(self,A,B,PI):\n",
    "                 self.A=A\n",
    "                 self.B=B\n",
    "                 self.PI=PI   \n",
    "def viterbi(obs,Modelo1,PI):\n",
    "    \n",
    "    delta=np.zeros((len(obs)+1,len(Modelo1.A)))\n",
    "    phi=np.zeros((len(obs)+1,len(A)))+666\n",
    "    path =np.zeros(len(obs)+1)\n",
    "    T=len(obs)\n",
    "    Modelo1.PI = PI\n",
    "    delta[0,:]= Modelo1.PI * Modelo1.B[:,obs[0]]\n",
    "    phi[0,:]=666\n",
    "    for t in range(len(obs)):\n",
    "        for j in range(delta.shape[1]):\n",
    "\n",
    "            delta [t+1,j]=np.max(delta[t] * A[:,j]) * B[j,obs[t]]\n",
    "            phi[t+1,j]= np.argmax(delta[t] * A[:,j])\n",
    "    path[T]=int(np.argmax(delta[T,:]))\n",
    "    for i in np.arange(T-1,0,-1):\n",
    "        #print (i,phi[i+1,int(path[i+1])])\n",
    "        path[i]=phi[i+1,int(path[i+1])]\n",
    "    return(path)\n",
    "def cuantizar_xy(xy, cc):\n",
    "    xycuant=cc\n",
    "    out=np.power(xycuant-xy,2).sum(axis=1).argmin()\n",
    "    return out\n",
    "    \n",
    "def path_to_xy(path,ccxy):\n",
    "    estimated= pd.DataFrame(path.astype(int).T)\n",
    "    estimated.columns=[['Path_vit']]\n",
    "    estimated['xcuant'] = estimated['Path_vit'].apply(lambda x: ccxy[x,0])\n",
    "    estimated['ycuant'] = estimated['Path_vit'].apply(lambda x: ccxy[x,1])                                \n",
    "    return (estimated)\n",
    "def quantized(xyth,ccxyth):\n",
    "    xythcuant=np.argmin(np.linalg.norm(xyth-ccxyth,axis=1))\n",
    "    x,y=ccxyth[xythcuant,:2]\n",
    "    return ((x,y),(xythcuant))\n",
    "\n"
   ]
  },
  {
   "cell_type": "code",
   "execution_count": 3,
   "metadata": {},
   "outputs": [],
   "source": [
    "def Markov_A_2_grafo(A,ccxyth):\n",
    "    dists=np.zeros(A.shape)\n",
    "    for i in range(A.shape[0]):\n",
    "        for j in range (A.shape[1]):\n",
    "            if A[i,j]!=0 :\n",
    "                dists[i,j]= np.linalg.norm(ccxyth[i]-ccxyth[j])    \n",
    "    \n",
    "    \n",
    "    con = np.where(dists==0,np.inf,dists)\n",
    "    graphe2=grafo(ccxyth,con)\n",
    "    return graphe2\n",
    "\n",
    "\n",
    "class node(object):\n",
    "    def __init__(self,x,y):\n",
    "        self.x=x\n",
    "        self.y=y\n",
    "        \n",
    "        \n",
    "class grafo (object):\n",
    "             def __init__(self,nodos,conec):\n",
    "                 self.nodos=nodos\n",
    "                 self.conec=conec        \n",
    "\n",
    "def dijkstra(nodoinicial,nodofinal,graphe):\n",
    "    \n",
    "\n",
    "    numnodos= len(graphe.nodos)\n",
    "    con = graphe.conec\n",
    "    D= np.ones(numnodos)*np.inf\n",
    "    Prv= np.ones(numnodos)*np.inf\n",
    "    V= np.zeros(numnodos)\n",
    "    a = nodoinicial\n",
    "    D[a]=0\n",
    "    Prv[a]=0\n",
    "    Prv[np.where(con[a]!=np.inf)]=a\n",
    "    V[a]=1\n",
    "    Dacc=D[a]\n",
    "    ########\n",
    "    D=np.minimum(D,con[a]+D[a])\n",
    "    cont=0\n",
    "    sucess=False\n",
    "    while(sucess==False):\n",
    "        a = np.argmin(D+np.where (V==1,np.inf, V))\n",
    "        Dacc=D[a]\n",
    "        Prv[np.where(D>(con[a]+Dacc) )]=a\n",
    "        V[a]=1\n",
    "        D=np.minimum(D,con[a]+Dacc)\n",
    "        if (a== nodofinal):\n",
    "            print(\"RUTA CALCULADA \")\n",
    "            sucess=True\n",
    "    rutainv=[]\n",
    "    rutainv.append(nodofinal)\n",
    "    while(rutainv[-1]!=nodoinicial):\n",
    "        prv=Prv[int(rutainv[-1])]\n",
    "        rutainv.append(prv)\n",
    "\n",
    "    ruta=[]\n",
    "    for n in reversed(rutainv):\n",
    "        ruta.append(n)\n",
    "    return(ruta)\n"
   ]
  },
  {
   "cell_type": "code",
   "execution_count": 4,
   "metadata": {},
   "outputs": [
    {
     "data": {
      "text/html": [
       "<div>\n",
       "<table border=\"1\" class=\"dataframe\">\n",
       "  <thead>\n",
       "    <tr style=\"text-align: right;\">\n",
       "      <th></th>\n",
       "      <th>R0</th>\n",
       "      <th>R1</th>\n",
       "      <th>R2</th>\n",
       "      <th>R3</th>\n",
       "      <th>R4</th>\n",
       "      <th>R5</th>\n",
       "      <th>R6</th>\n",
       "      <th>R7</th>\n",
       "      <th>R8</th>\n",
       "      <th>R9</th>\n",
       "      <th>...</th>\n",
       "      <th>R714</th>\n",
       "      <th>R715</th>\n",
       "      <th>R716</th>\n",
       "      <th>R717</th>\n",
       "      <th>R718</th>\n",
       "      <th>R719</th>\n",
       "      <th>R720</th>\n",
       "      <th>x</th>\n",
       "      <th>y</th>\n",
       "      <th>theta</th>\n",
       "    </tr>\n",
       "  </thead>\n",
       "  <tbody>\n",
       "    <tr>\n",
       "      <th>count</th>\n",
       "      <td>23877.000000</td>\n",
       "      <td>23877.000000</td>\n",
       "      <td>23877.000000</td>\n",
       "      <td>23877.000000</td>\n",
       "      <td>23877.000000</td>\n",
       "      <td>23877.000000</td>\n",
       "      <td>23877.000000</td>\n",
       "      <td>23877.000000</td>\n",
       "      <td>23877.000000</td>\n",
       "      <td>23877.000000</td>\n",
       "      <td>...</td>\n",
       "      <td>23877.000000</td>\n",
       "      <td>23877.000000</td>\n",
       "      <td>23877.000000</td>\n",
       "      <td>23877.000000</td>\n",
       "      <td>23877.000000</td>\n",
       "      <td>23877.000000</td>\n",
       "      <td>23877.000000</td>\n",
       "      <td>23877.000000</td>\n",
       "      <td>23877.000000</td>\n",
       "      <td>23877.000000</td>\n",
       "    </tr>\n",
       "    <tr>\n",
       "      <th>mean</th>\n",
       "      <td>3.190143</td>\n",
       "      <td>3.189229</td>\n",
       "      <td>3.192182</td>\n",
       "      <td>3.194631</td>\n",
       "      <td>3.196241</td>\n",
       "      <td>3.194398</td>\n",
       "      <td>3.190053</td>\n",
       "      <td>3.191011</td>\n",
       "      <td>3.194637</td>\n",
       "      <td>3.191882</td>\n",
       "      <td>...</td>\n",
       "      <td>3.117860</td>\n",
       "      <td>3.119370</td>\n",
       "      <td>3.123791</td>\n",
       "      <td>3.129620</td>\n",
       "      <td>3.137730</td>\n",
       "      <td>3.141248</td>\n",
       "      <td>3.148506</td>\n",
       "      <td>-0.172472</td>\n",
       "      <td>1.857350</td>\n",
       "      <td>0.052452</td>\n",
       "    </tr>\n",
       "    <tr>\n",
       "      <th>std</th>\n",
       "      <td>2.054171</td>\n",
       "      <td>2.065934</td>\n",
       "      <td>2.079633</td>\n",
       "      <td>2.096674</td>\n",
       "      <td>2.108123</td>\n",
       "      <td>2.115277</td>\n",
       "      <td>2.120580</td>\n",
       "      <td>2.130139</td>\n",
       "      <td>2.148307</td>\n",
       "      <td>2.152622</td>\n",
       "      <td>...</td>\n",
       "      <td>1.990339</td>\n",
       "      <td>1.992633</td>\n",
       "      <td>1.993674</td>\n",
       "      <td>1.996469</td>\n",
       "      <td>2.007682</td>\n",
       "      <td>2.006146</td>\n",
       "      <td>2.011755</td>\n",
       "      <td>1.986269</td>\n",
       "      <td>2.011609</td>\n",
       "      <td>1.843144</td>\n",
       "    </tr>\n",
       "    <tr>\n",
       "      <th>min</th>\n",
       "      <td>0.406166</td>\n",
       "      <td>0.404345</td>\n",
       "      <td>0.403152</td>\n",
       "      <td>0.401979</td>\n",
       "      <td>0.400827</td>\n",
       "      <td>0.399097</td>\n",
       "      <td>0.397988</td>\n",
       "      <td>0.396898</td>\n",
       "      <td>0.395828</td>\n",
       "      <td>0.394177</td>\n",
       "      <td>...</td>\n",
       "      <td>0.300765</td>\n",
       "      <td>0.303960</td>\n",
       "      <td>0.302355</td>\n",
       "      <td>0.300858</td>\n",
       "      <td>0.302843</td>\n",
       "      <td>0.304866</td>\n",
       "      <td>0.306926</td>\n",
       "      <td>-3.719565</td>\n",
       "      <td>-2.674327</td>\n",
       "      <td>-3.141364</td>\n",
       "    </tr>\n",
       "    <tr>\n",
       "      <th>25%</th>\n",
       "      <td>1.628477</td>\n",
       "      <td>1.623511</td>\n",
       "      <td>1.618123</td>\n",
       "      <td>1.613172</td>\n",
       "      <td>1.609086</td>\n",
       "      <td>1.604720</td>\n",
       "      <td>1.599621</td>\n",
       "      <td>1.595475</td>\n",
       "      <td>1.591735</td>\n",
       "      <td>1.588202</td>\n",
       "      <td>...</td>\n",
       "      <td>1.725976</td>\n",
       "      <td>1.729566</td>\n",
       "      <td>1.733253</td>\n",
       "      <td>1.736348</td>\n",
       "      <td>1.741396</td>\n",
       "      <td>1.746020</td>\n",
       "      <td>1.750083</td>\n",
       "      <td>-1.872577</td>\n",
       "      <td>0.232127</td>\n",
       "      <td>-1.437067</td>\n",
       "    </tr>\n",
       "    <tr>\n",
       "      <th>50%</th>\n",
       "      <td>2.475462</td>\n",
       "      <td>2.465552</td>\n",
       "      <td>2.457282</td>\n",
       "      <td>2.447728</td>\n",
       "      <td>2.441308</td>\n",
       "      <td>2.431842</td>\n",
       "      <td>2.422203</td>\n",
       "      <td>2.417037</td>\n",
       "      <td>2.407376</td>\n",
       "      <td>2.399940</td>\n",
       "      <td>...</td>\n",
       "      <td>2.466668</td>\n",
       "      <td>2.468918</td>\n",
       "      <td>2.475062</td>\n",
       "      <td>2.479255</td>\n",
       "      <td>2.482881</td>\n",
       "      <td>2.485480</td>\n",
       "      <td>2.492247</td>\n",
       "      <td>-0.041933</td>\n",
       "      <td>1.451492</td>\n",
       "      <td>-0.004991</td>\n",
       "    </tr>\n",
       "    <tr>\n",
       "      <th>75%</th>\n",
       "      <td>4.466963</td>\n",
       "      <td>4.478095</td>\n",
       "      <td>4.493530</td>\n",
       "      <td>4.490005</td>\n",
       "      <td>4.502109</td>\n",
       "      <td>4.506562</td>\n",
       "      <td>4.493653</td>\n",
       "      <td>4.496503</td>\n",
       "      <td>4.497544</td>\n",
       "      <td>4.491808</td>\n",
       "      <td>...</td>\n",
       "      <td>4.029264</td>\n",
       "      <td>4.023617</td>\n",
       "      <td>4.030480</td>\n",
       "      <td>4.034908</td>\n",
       "      <td>4.032610</td>\n",
       "      <td>4.035877</td>\n",
       "      <td>4.043756</td>\n",
       "      <td>1.066181</td>\n",
       "      <td>3.692795</td>\n",
       "      <td>1.691020</td>\n",
       "    </tr>\n",
       "    <tr>\n",
       "      <th>max</th>\n",
       "      <td>12.282996</td>\n",
       "      <td>13.500000</td>\n",
       "      <td>12.294272</td>\n",
       "      <td>12.283157</td>\n",
       "      <td>13.500000</td>\n",
       "      <td>12.294168</td>\n",
       "      <td>12.283052</td>\n",
       "      <td>12.272669</td>\n",
       "      <td>12.294942</td>\n",
       "      <td>12.283786</td>\n",
       "      <td>...</td>\n",
       "      <td>12.926135</td>\n",
       "      <td>12.968840</td>\n",
       "      <td>13.012271</td>\n",
       "      <td>12.941987</td>\n",
       "      <td>12.873682</td>\n",
       "      <td>12.915410</td>\n",
       "      <td>12.957850</td>\n",
       "      <td>3.985533</td>\n",
       "      <td>5.514922</td>\n",
       "      <td>3.141482</td>\n",
       "    </tr>\n",
       "  </tbody>\n",
       "</table>\n",
       "<p>8 rows × 724 columns</p>\n",
       "</div>"
      ],
      "text/plain": [
       "                 R0            R1            R2            R3            R4  \\\n",
       "count  23877.000000  23877.000000  23877.000000  23877.000000  23877.000000   \n",
       "mean       3.190143      3.189229      3.192182      3.194631      3.196241   \n",
       "std        2.054171      2.065934      2.079633      2.096674      2.108123   \n",
       "min        0.406166      0.404345      0.403152      0.401979      0.400827   \n",
       "25%        1.628477      1.623511      1.618123      1.613172      1.609086   \n",
       "50%        2.475462      2.465552      2.457282      2.447728      2.441308   \n",
       "75%        4.466963      4.478095      4.493530      4.490005      4.502109   \n",
       "max       12.282996     13.500000     12.294272     12.283157     13.500000   \n",
       "\n",
       "                 R5            R6            R7            R8            R9  \\\n",
       "count  23877.000000  23877.000000  23877.000000  23877.000000  23877.000000   \n",
       "mean       3.194398      3.190053      3.191011      3.194637      3.191882   \n",
       "std        2.115277      2.120580      2.130139      2.148307      2.152622   \n",
       "min        0.399097      0.397988      0.396898      0.395828      0.394177   \n",
       "25%        1.604720      1.599621      1.595475      1.591735      1.588202   \n",
       "50%        2.431842      2.422203      2.417037      2.407376      2.399940   \n",
       "75%        4.506562      4.493653      4.496503      4.497544      4.491808   \n",
       "max       12.294168     12.283052     12.272669     12.294942     12.283786   \n",
       "\n",
       "           ...               R714          R715          R716          R717  \\\n",
       "count      ...       23877.000000  23877.000000  23877.000000  23877.000000   \n",
       "mean       ...           3.117860      3.119370      3.123791      3.129620   \n",
       "std        ...           1.990339      1.992633      1.993674      1.996469   \n",
       "min        ...           0.300765      0.303960      0.302355      0.300858   \n",
       "25%        ...           1.725976      1.729566      1.733253      1.736348   \n",
       "50%        ...           2.466668      2.468918      2.475062      2.479255   \n",
       "75%        ...           4.029264      4.023617      4.030480      4.034908   \n",
       "max        ...          12.926135     12.968840     13.012271     12.941987   \n",
       "\n",
       "               R718          R719          R720             x             y  \\\n",
       "count  23877.000000  23877.000000  23877.000000  23877.000000  23877.000000   \n",
       "mean       3.137730      3.141248      3.148506     -0.172472      1.857350   \n",
       "std        2.007682      2.006146      2.011755      1.986269      2.011609   \n",
       "min        0.302843      0.304866      0.306926     -3.719565     -2.674327   \n",
       "25%        1.741396      1.746020      1.750083     -1.872577      0.232127   \n",
       "50%        2.482881      2.485480      2.492247     -0.041933      1.451492   \n",
       "75%        4.032610      4.035877      4.043756      1.066181      3.692795   \n",
       "max       12.873682     12.915410     12.957850      3.985533      5.514922   \n",
       "\n",
       "              theta  \n",
       "count  23877.000000  \n",
       "mean       0.052452  \n",
       "std        1.843144  \n",
       "min       -3.141364  \n",
       "25%       -1.437067  \n",
       "50%       -0.004991  \n",
       "75%        1.691020  \n",
       "max        3.141482  \n",
       "\n",
       "[8 rows x 724 columns]"
      ]
     },
     "execution_count": 4,
     "metadata": {},
     "output_type": "execute_result"
    }
   ],
   "source": [
    "only_nice=True\n",
    "data=pd.read_csv('lecturasconodometria_nice.txt')\n",
    "#data=data.iloc[:5000,:]\n",
    "\n",
    "cols=['x','y','theta']\n",
    "n_reads=data.shape[1]-3\n",
    "n_reads\n",
    "etiquetas=[]\n",
    "for i in range (n_reads):\n",
    "    etiquetas.append('R'+str(i))\n",
    "\n",
    "        \n",
    "for lab in cols:\n",
    "    etiquetas.append(lab)\n",
    "\n",
    "\n",
    "data.columns=etiquetas\n",
    "\n",
    "if (only_nice!=True):\n",
    "    print(\"NOT ONLY NICE\")\n",
    "    data2=pd.read_csv('lecturasconodometria.txt')\n",
    "    data2.columns=etiquetas\n",
    "    data3= pd.concat((data,data2))\n",
    "    data=data3\n",
    "\n",
    "\n",
    "\n",
    "\n",
    "\n",
    "\n",
    "####\n",
    "#index = data[data.y<-1].index\n",
    "#data=data.drop(index)\n",
    "data.describe()\n",
    "\n",
    "\n",
    "\n",
    "#####\n",
    "\n",
    "xyth=data[['x','y','theta']]\n",
    "\n",
    "lecs=data.iloc[:,0:n_reads]\n",
    "\n",
    "\n",
    "data.describe()\n"
   ]
  },
  {
   "cell_type": "code",
   "execution_count": 5,
   "metadata": {},
   "outputs": [
    {
     "name": "stderr",
     "output_type": "stream",
     "text": [
      "/usr/lib/python2.7/dist-packages/sklearn/cluster/k_means_.py:1279: DeprecationWarning: This function is deprecated. Please call randint(0, 23876 + 1) instead\n",
      "  0, n_samples - 1, init_size)\n",
      "/usr/lib/python2.7/dist-packages/sklearn/cluster/k_means_.py:630: DeprecationWarning: This function is deprecated. Please call randint(0, 23876 + 1) instead\n",
      "  0, n_samples - 1, init_size)\n",
      "/usr/lib/python2.7/dist-packages/sklearn/cluster/k_means_.py:630: DeprecationWarning: This function is deprecated. Please call randint(0, 23876 + 1) instead\n",
      "  0, n_samples - 1, init_size)\n",
      "/usr/lib/python2.7/dist-packages/sklearn/cluster/k_means_.py:630: DeprecationWarning: This function is deprecated. Please call randint(0, 23876 + 1) instead\n",
      "  0, n_samples - 1, init_size)\n",
      "/usr/lib/python2.7/dist-packages/sklearn/cluster/k_means_.py:630: DeprecationWarning: This function is deprecated. Please call randint(0, 23876 + 1) instead\n",
      "  0, n_samples - 1, init_size)\n",
      "/usr/lib/python2.7/dist-packages/sklearn/cluster/k_means_.py:630: DeprecationWarning: This function is deprecated. Please call randint(0, 23876 + 1) instead\n",
      "  0, n_samples - 1, init_size)\n",
      "/usr/lib/python2.7/dist-packages/sklearn/cluster/k_means_.py:630: DeprecationWarning: This function is deprecated. Please call randint(0, 23876 + 1) instead\n",
      "  0, n_samples - 1, init_size)\n",
      "/usr/lib/python2.7/dist-packages/sklearn/cluster/k_means_.py:630: DeprecationWarning: This function is deprecated. Please call randint(0, 23876 + 1) instead\n",
      "  0, n_samples - 1, init_size)\n",
      "/usr/lib/python2.7/dist-packages/sklearn/cluster/k_means_.py:630: DeprecationWarning: This function is deprecated. Please call randint(0, 23876 + 1) instead\n",
      "  0, n_samples - 1, init_size)\n",
      "/usr/lib/python2.7/dist-packages/sklearn/cluster/k_means_.py:630: DeprecationWarning: This function is deprecated. Please call randint(0, 23876 + 1) instead\n",
      "  0, n_samples - 1, init_size)\n",
      "/usr/lib/python2.7/dist-packages/sklearn/cluster/k_means_.py:630: DeprecationWarning: This function is deprecated. Please call randint(0, 23876 + 1) instead\n",
      "  0, n_samples - 1, init_size)\n",
      "/usr/lib/python2.7/dist-packages/sklearn/cluster/k_means_.py:1328: DeprecationWarning: This function is deprecated. Please call randint(0, 23876 + 1) instead\n",
      "  0, n_samples - 1, self.batch_size)\n",
      "/usr/lib/python2.7/dist-packages/sklearn/cluster/k_means_.py:1328: DeprecationWarning: This function is deprecated. Please call randint(0, 23876 + 1) instead\n",
      "  0, n_samples - 1, self.batch_size)\n",
      "/usr/lib/python2.7/dist-packages/sklearn/cluster/k_means_.py:1328: DeprecationWarning: This function is deprecated. Please call randint(0, 23876 + 1) instead\n",
      "  0, n_samples - 1, self.batch_size)\n",
      "/usr/lib/python2.7/dist-packages/sklearn/cluster/k_means_.py:1328: DeprecationWarning: This function is deprecated. Please call randint(0, 23876 + 1) instead\n",
      "  0, n_samples - 1, self.batch_size)\n",
      "/usr/lib/python2.7/dist-packages/sklearn/cluster/k_means_.py:1328: DeprecationWarning: This function is deprecated. Please call randint(0, 23876 + 1) instead\n",
      "  0, n_samples - 1, self.batch_size)\n",
      "/usr/lib/python2.7/dist-packages/sklearn/cluster/k_means_.py:1328: DeprecationWarning: This function is deprecated. Please call randint(0, 23876 + 1) instead\n",
      "  0, n_samples - 1, self.batch_size)\n",
      "/usr/lib/python2.7/dist-packages/sklearn/cluster/k_means_.py:1328: DeprecationWarning: This function is deprecated. Please call randint(0, 23876 + 1) instead\n",
      "  0, n_samples - 1, self.batch_size)\n",
      "/usr/lib/python2.7/dist-packages/sklearn/cluster/k_means_.py:1328: DeprecationWarning: This function is deprecated. Please call randint(0, 23876 + 1) instead\n",
      "  0, n_samples - 1, self.batch_size)\n",
      "/usr/lib/python2.7/dist-packages/sklearn/cluster/k_means_.py:1328: DeprecationWarning: This function is deprecated. Please call randint(0, 23876 + 1) instead\n",
      "  0, n_samples - 1, self.batch_size)\n",
      "/usr/lib/python2.7/dist-packages/sklearn/cluster/k_means_.py:1328: DeprecationWarning: This function is deprecated. Please call randint(0, 23876 + 1) instead\n",
      "  0, n_samples - 1, self.batch_size)\n",
      "/usr/lib/python2.7/dist-packages/sklearn/cluster/k_means_.py:1328: DeprecationWarning: This function is deprecated. Please call randint(0, 23876 + 1) instead\n",
      "  0, n_samples - 1, self.batch_size)\n",
      "/usr/lib/python2.7/dist-packages/sklearn/cluster/k_means_.py:1328: DeprecationWarning: This function is deprecated. Please call randint(0, 23876 + 1) instead\n",
      "  0, n_samples - 1, self.batch_size)\n",
      "/usr/lib/python2.7/dist-packages/sklearn/cluster/k_means_.py:1328: DeprecationWarning: This function is deprecated. Please call randint(0, 23876 + 1) instead\n",
      "  0, n_samples - 1, self.batch_size)\n",
      "/usr/lib/python2.7/dist-packages/sklearn/cluster/k_means_.py:1328: DeprecationWarning: This function is deprecated. Please call randint(0, 23876 + 1) instead\n",
      "  0, n_samples - 1, self.batch_size)\n",
      "/usr/lib/python2.7/dist-packages/sklearn/cluster/k_means_.py:1328: DeprecationWarning: This function is deprecated. Please call randint(0, 23876 + 1) instead\n",
      "  0, n_samples - 1, self.batch_size)\n",
      "/usr/lib/python2.7/dist-packages/sklearn/cluster/k_means_.py:1328: DeprecationWarning: This function is deprecated. Please call randint(0, 23876 + 1) instead\n",
      "  0, n_samples - 1, self.batch_size)\n",
      "/usr/lib/python2.7/dist-packages/sklearn/cluster/k_means_.py:1328: DeprecationWarning: This function is deprecated. Please call randint(0, 23876 + 1) instead\n",
      "  0, n_samples - 1, self.batch_size)\n",
      "/usr/lib/python2.7/dist-packages/sklearn/cluster/k_means_.py:1328: DeprecationWarning: This function is deprecated. Please call randint(0, 23876 + 1) instead\n",
      "  0, n_samples - 1, self.batch_size)\n",
      "/usr/lib/python2.7/dist-packages/sklearn/cluster/k_means_.py:1328: DeprecationWarning: This function is deprecated. Please call randint(0, 23876 + 1) instead\n",
      "  0, n_samples - 1, self.batch_size)\n",
      "/usr/lib/python2.7/dist-packages/sklearn/cluster/k_means_.py:1328: DeprecationWarning: This function is deprecated. Please call randint(0, 23876 + 1) instead\n",
      "  0, n_samples - 1, self.batch_size)\n",
      "/usr/lib/python2.7/dist-packages/sklearn/cluster/k_means_.py:1328: DeprecationWarning: This function is deprecated. Please call randint(0, 23876 + 1) instead\n",
      "  0, n_samples - 1, self.batch_size)\n",
      "/usr/lib/python2.7/dist-packages/sklearn/cluster/k_means_.py:1328: DeprecationWarning: This function is deprecated. Please call randint(0, 23876 + 1) instead\n",
      "  0, n_samples - 1, self.batch_size)\n",
      "/usr/lib/python2.7/dist-packages/sklearn/cluster/k_means_.py:1328: DeprecationWarning: This function is deprecated. Please call randint(0, 23876 + 1) instead\n",
      "  0, n_samples - 1, self.batch_size)\n",
      "/usr/lib/python2.7/dist-packages/sklearn/cluster/k_means_.py:1328: DeprecationWarning: This function is deprecated. Please call randint(0, 23876 + 1) instead\n",
      "  0, n_samples - 1, self.batch_size)\n",
      "/usr/lib/python2.7/dist-packages/sklearn/cluster/k_means_.py:1328: DeprecationWarning: This function is deprecated. Please call randint(0, 23876 + 1) instead\n",
      "  0, n_samples - 1, self.batch_size)\n",
      "/usr/lib/python2.7/dist-packages/sklearn/cluster/k_means_.py:1328: DeprecationWarning: This function is deprecated. Please call randint(0, 23876 + 1) instead\n",
      "  0, n_samples - 1, self.batch_size)\n",
      "/usr/lib/python2.7/dist-packages/sklearn/cluster/k_means_.py:1328: DeprecationWarning: This function is deprecated. Please call randint(0, 23876 + 1) instead\n",
      "  0, n_samples - 1, self.batch_size)\n",
      "/usr/lib/python2.7/dist-packages/sklearn/cluster/k_means_.py:1328: DeprecationWarning: This function is deprecated. Please call randint(0, 23876 + 1) instead\n",
      "  0, n_samples - 1, self.batch_size)\n",
      "/usr/lib/python2.7/dist-packages/sklearn/cluster/k_means_.py:1328: DeprecationWarning: This function is deprecated. Please call randint(0, 23876 + 1) instead\n",
      "  0, n_samples - 1, self.batch_size)\n",
      "/usr/lib/python2.7/dist-packages/sklearn/cluster/k_means_.py:1328: DeprecationWarning: This function is deprecated. Please call randint(0, 23876 + 1) instead\n",
      "  0, n_samples - 1, self.batch_size)\n",
      "/usr/lib/python2.7/dist-packages/sklearn/cluster/k_means_.py:1328: DeprecationWarning: This function is deprecated. Please call randint(0, 23876 + 1) instead\n",
      "  0, n_samples - 1, self.batch_size)\n",
      "/usr/lib/python2.7/dist-packages/sklearn/cluster/k_means_.py:1328: DeprecationWarning: This function is deprecated. Please call randint(0, 23876 + 1) instead\n",
      "  0, n_samples - 1, self.batch_size)\n",
      "/usr/lib/python2.7/dist-packages/sklearn/cluster/k_means_.py:1328: DeprecationWarning: This function is deprecated. Please call randint(0, 23876 + 1) instead\n",
      "  0, n_samples - 1, self.batch_size)\n"
     ]
    },
    {
     "name": "stderr",
     "output_type": "stream",
     "text": [
      "/usr/lib/python2.7/dist-packages/sklearn/cluster/k_means_.py:1328: DeprecationWarning: This function is deprecated. Please call randint(0, 23876 + 1) instead\n",
      "  0, n_samples - 1, self.batch_size)\n",
      "/usr/lib/python2.7/dist-packages/sklearn/cluster/k_means_.py:1328: DeprecationWarning: This function is deprecated. Please call randint(0, 23876 + 1) instead\n",
      "  0, n_samples - 1, self.batch_size)\n",
      "/usr/lib/python2.7/dist-packages/sklearn/cluster/k_means_.py:1328: DeprecationWarning: This function is deprecated. Please call randint(0, 23876 + 1) instead\n",
      "  0, n_samples - 1, self.batch_size)\n",
      "/usr/lib/python2.7/dist-packages/sklearn/cluster/k_means_.py:1328: DeprecationWarning: This function is deprecated. Please call randint(0, 23876 + 1) instead\n",
      "  0, n_samples - 1, self.batch_size)\n",
      "/usr/lib/python2.7/dist-packages/sklearn/cluster/k_means_.py:1328: DeprecationWarning: This function is deprecated. Please call randint(0, 23876 + 1) instead\n",
      "  0, n_samples - 1, self.batch_size)\n",
      "/usr/lib/python2.7/dist-packages/sklearn/cluster/k_means_.py:1328: DeprecationWarning: This function is deprecated. Please call randint(0, 23876 + 1) instead\n",
      "  0, n_samples - 1, self.batch_size)\n",
      "/usr/lib/python2.7/dist-packages/sklearn/cluster/k_means_.py:1328: DeprecationWarning: This function is deprecated. Please call randint(0, 23876 + 1) instead\n",
      "  0, n_samples - 1, self.batch_size)\n",
      "/usr/lib/python2.7/dist-packages/sklearn/cluster/k_means_.py:1328: DeprecationWarning: This function is deprecated. Please call randint(0, 23876 + 1) instead\n",
      "  0, n_samples - 1, self.batch_size)\n",
      "/usr/lib/python2.7/dist-packages/sklearn/cluster/k_means_.py:1328: DeprecationWarning: This function is deprecated. Please call randint(0, 23876 + 1) instead\n",
      "  0, n_samples - 1, self.batch_size)\n",
      "/usr/lib/python2.7/dist-packages/sklearn/cluster/k_means_.py:1328: DeprecationWarning: This function is deprecated. Please call randint(0, 23876 + 1) instead\n",
      "  0, n_samples - 1, self.batch_size)\n",
      "/usr/lib/python2.7/dist-packages/sklearn/cluster/k_means_.py:1328: DeprecationWarning: This function is deprecated. Please call randint(0, 23876 + 1) instead\n",
      "  0, n_samples - 1, self.batch_size)\n",
      "/usr/lib/python2.7/dist-packages/sklearn/cluster/k_means_.py:1279: DeprecationWarning: This function is deprecated. Please call randint(0, 23876 + 1) instead\n",
      "  0, n_samples - 1, init_size)\n",
      "/usr/lib/python2.7/dist-packages/sklearn/cluster/k_means_.py:630: DeprecationWarning: This function is deprecated. Please call randint(0, 23876 + 1) instead\n",
      "  0, n_samples - 1, init_size)\n",
      "/usr/lib/python2.7/dist-packages/sklearn/cluster/k_means_.py:630: DeprecationWarning: This function is deprecated. Please call randint(0, 23876 + 1) instead\n",
      "  0, n_samples - 1, init_size)\n",
      "/usr/lib/python2.7/dist-packages/sklearn/cluster/k_means_.py:630: DeprecationWarning: This function is deprecated. Please call randint(0, 23876 + 1) instead\n",
      "  0, n_samples - 1, init_size)\n",
      "/usr/lib/python2.7/dist-packages/sklearn/cluster/k_means_.py:630: DeprecationWarning: This function is deprecated. Please call randint(0, 23876 + 1) instead\n",
      "  0, n_samples - 1, init_size)\n",
      "/usr/lib/python2.7/dist-packages/sklearn/cluster/k_means_.py:630: DeprecationWarning: This function is deprecated. Please call randint(0, 23876 + 1) instead\n",
      "  0, n_samples - 1, init_size)\n",
      "/usr/lib/python2.7/dist-packages/sklearn/cluster/k_means_.py:630: DeprecationWarning: This function is deprecated. Please call randint(0, 23876 + 1) instead\n",
      "  0, n_samples - 1, init_size)\n",
      "/usr/lib/python2.7/dist-packages/sklearn/cluster/k_means_.py:630: DeprecationWarning: This function is deprecated. Please call randint(0, 23876 + 1) instead\n",
      "  0, n_samples - 1, init_size)\n",
      "/usr/lib/python2.7/dist-packages/sklearn/cluster/k_means_.py:630: DeprecationWarning: This function is deprecated. Please call randint(0, 23876 + 1) instead\n",
      "  0, n_samples - 1, init_size)\n",
      "/usr/lib/python2.7/dist-packages/sklearn/cluster/k_means_.py:630: DeprecationWarning: This function is deprecated. Please call randint(0, 23876 + 1) instead\n",
      "  0, n_samples - 1, init_size)\n",
      "/usr/lib/python2.7/dist-packages/sklearn/cluster/k_means_.py:630: DeprecationWarning: This function is deprecated. Please call randint(0, 23876 + 1) instead\n",
      "  0, n_samples - 1, init_size)\n",
      "/usr/lib/python2.7/dist-packages/sklearn/cluster/k_means_.py:1328: DeprecationWarning: This function is deprecated. Please call randint(0, 23876 + 1) instead\n",
      "  0, n_samples - 1, self.batch_size)\n",
      "/usr/lib/python2.7/dist-packages/sklearn/cluster/k_means_.py:1328: DeprecationWarning: This function is deprecated. Please call randint(0, 23876 + 1) instead\n",
      "  0, n_samples - 1, self.batch_size)\n",
      "/usr/lib/python2.7/dist-packages/sklearn/cluster/k_means_.py:1328: DeprecationWarning: This function is deprecated. Please call randint(0, 23876 + 1) instead\n",
      "  0, n_samples - 1, self.batch_size)\n",
      "/usr/lib/python2.7/dist-packages/sklearn/cluster/k_means_.py:1328: DeprecationWarning: This function is deprecated. Please call randint(0, 23876 + 1) instead\n",
      "  0, n_samples - 1, self.batch_size)\n",
      "/usr/lib/python2.7/dist-packages/sklearn/cluster/k_means_.py:1328: DeprecationWarning: This function is deprecated. Please call randint(0, 23876 + 1) instead\n",
      "  0, n_samples - 1, self.batch_size)\n",
      "/usr/lib/python2.7/dist-packages/sklearn/cluster/k_means_.py:1328: DeprecationWarning: This function is deprecated. Please call randint(0, 23876 + 1) instead\n",
      "  0, n_samples - 1, self.batch_size)\n",
      "/usr/lib/python2.7/dist-packages/sklearn/cluster/k_means_.py:1328: DeprecationWarning: This function is deprecated. Please call randint(0, 23876 + 1) instead\n",
      "  0, n_samples - 1, self.batch_size)\n",
      "/usr/lib/python2.7/dist-packages/sklearn/cluster/k_means_.py:1328: DeprecationWarning: This function is deprecated. Please call randint(0, 23876 + 1) instead\n",
      "  0, n_samples - 1, self.batch_size)\n",
      "/usr/lib/python2.7/dist-packages/sklearn/cluster/k_means_.py:1328: DeprecationWarning: This function is deprecated. Please call randint(0, 23876 + 1) instead\n",
      "  0, n_samples - 1, self.batch_size)\n",
      "/usr/lib/python2.7/dist-packages/sklearn/cluster/k_means_.py:1328: DeprecationWarning: This function is deprecated. Please call randint(0, 23876 + 1) instead\n",
      "  0, n_samples - 1, self.batch_size)\n",
      "/usr/lib/python2.7/dist-packages/sklearn/cluster/k_means_.py:1328: DeprecationWarning: This function is deprecated. Please call randint(0, 23876 + 1) instead\n",
      "  0, n_samples - 1, self.batch_size)\n",
      "/usr/lib/python2.7/dist-packages/sklearn/cluster/k_means_.py:1328: DeprecationWarning: This function is deprecated. Please call randint(0, 23876 + 1) instead\n",
      "  0, n_samples - 1, self.batch_size)\n",
      "/usr/lib/python2.7/dist-packages/sklearn/cluster/k_means_.py:1328: DeprecationWarning: This function is deprecated. Please call randint(0, 23876 + 1) instead\n",
      "  0, n_samples - 1, self.batch_size)\n",
      "/usr/lib/python2.7/dist-packages/sklearn/cluster/k_means_.py:1328: DeprecationWarning: This function is deprecated. Please call randint(0, 23876 + 1) instead\n",
      "  0, n_samples - 1, self.batch_size)\n",
      "/usr/lib/python2.7/dist-packages/sklearn/cluster/k_means_.py:1328: DeprecationWarning: This function is deprecated. Please call randint(0, 23876 + 1) instead\n",
      "  0, n_samples - 1, self.batch_size)\n",
      "/usr/lib/python2.7/dist-packages/sklearn/cluster/k_means_.py:1328: DeprecationWarning: This function is deprecated. Please call randint(0, 23876 + 1) instead\n",
      "  0, n_samples - 1, self.batch_size)\n",
      "/usr/lib/python2.7/dist-packages/sklearn/cluster/k_means_.py:1328: DeprecationWarning: This function is deprecated. Please call randint(0, 23876 + 1) instead\n",
      "  0, n_samples - 1, self.batch_size)\n",
      "/usr/lib/python2.7/dist-packages/sklearn/cluster/k_means_.py:1328: DeprecationWarning: This function is deprecated. Please call randint(0, 23876 + 1) instead\n",
      "  0, n_samples - 1, self.batch_size)\n",
      "/usr/lib/python2.7/dist-packages/sklearn/cluster/k_means_.py:1328: DeprecationWarning: This function is deprecated. Please call randint(0, 23876 + 1) instead\n",
      "  0, n_samples - 1, self.batch_size)\n",
      "/usr/lib/python2.7/dist-packages/sklearn/cluster/k_means_.py:1328: DeprecationWarning: This function is deprecated. Please call randint(0, 23876 + 1) instead\n",
      "  0, n_samples - 1, self.batch_size)\n",
      "/usr/lib/python2.7/dist-packages/sklearn/cluster/k_means_.py:1328: DeprecationWarning: This function is deprecated. Please call randint(0, 23876 + 1) instead\n",
      "  0, n_samples - 1, self.batch_size)\n",
      "/usr/lib/python2.7/dist-packages/sklearn/cluster/k_means_.py:1328: DeprecationWarning: This function is deprecated. Please call randint(0, 23876 + 1) instead\n",
      "  0, n_samples - 1, self.batch_size)\n",
      "/usr/lib/python2.7/dist-packages/sklearn/cluster/k_means_.py:1328: DeprecationWarning: This function is deprecated. Please call randint(0, 23876 + 1) instead\n",
      "  0, n_samples - 1, self.batch_size)\n",
      "/usr/lib/python2.7/dist-packages/sklearn/cluster/k_means_.py:1328: DeprecationWarning: This function is deprecated. Please call randint(0, 23876 + 1) instead\n",
      "  0, n_samples - 1, self.batch_size)\n",
      "/usr/lib/python2.7/dist-packages/sklearn/cluster/k_means_.py:1328: DeprecationWarning: This function is deprecated. Please call randint(0, 23876 + 1) instead\n",
      "  0, n_samples - 1, self.batch_size)\n",
      "/usr/lib/python2.7/dist-packages/sklearn/cluster/k_means_.py:1328: DeprecationWarning: This function is deprecated. Please call randint(0, 23876 + 1) instead\n",
      "  0, n_samples - 1, self.batch_size)\n",
      "/usr/lib/python2.7/dist-packages/sklearn/cluster/k_means_.py:1328: DeprecationWarning: This function is deprecated. Please call randint(0, 23876 + 1) instead\n",
      "  0, n_samples - 1, self.batch_size)\n",
      "/usr/lib/python2.7/dist-packages/sklearn/cluster/k_means_.py:1328: DeprecationWarning: This function is deprecated. Please call randint(0, 23876 + 1) instead\n",
      "  0, n_samples - 1, self.batch_size)\n",
      "/usr/lib/python2.7/dist-packages/sklearn/cluster/k_means_.py:1328: DeprecationWarning: This function is deprecated. Please call randint(0, 23876 + 1) instead\n",
      "  0, n_samples - 1, self.batch_size)\n",
      "/usr/lib/python2.7/dist-packages/sklearn/cluster/k_means_.py:1328: DeprecationWarning: This function is deprecated. Please call randint(0, 23876 + 1) instead\n",
      "  0, n_samples - 1, self.batch_size)\n",
      "/usr/lib/python2.7/dist-packages/sklearn/cluster/k_means_.py:1328: DeprecationWarning: This function is deprecated. Please call randint(0, 23876 + 1) instead\n",
      "  0, n_samples - 1, self.batch_size)\n",
      "/usr/lib/python2.7/dist-packages/sklearn/cluster/k_means_.py:1328: DeprecationWarning: This function is deprecated. Please call randint(0, 23876 + 1) instead\n",
      "  0, n_samples - 1, self.batch_size)\n",
      "/usr/lib/python2.7/dist-packages/sklearn/cluster/k_means_.py:1328: DeprecationWarning: This function is deprecated. Please call randint(0, 23876 + 1) instead\n",
      "  0, n_samples - 1, self.batch_size)\n",
      "/usr/lib/python2.7/dist-packages/sklearn/cluster/k_means_.py:1328: DeprecationWarning: This function is deprecated. Please call randint(0, 23876 + 1) instead\n",
      "  0, n_samples - 1, self.batch_size)\n",
      "/usr/lib/python2.7/dist-packages/sklearn/cluster/k_means_.py:1328: DeprecationWarning: This function is deprecated. Please call randint(0, 23876 + 1) instead\n",
      "  0, n_samples - 1, self.batch_size)\n"
     ]
    },
    {
     "name": "stdout",
     "output_type": "stream",
     "text": [
      "(array([-3.05064563,  2.46898844, -1.66027334]), 2)\n"
     ]
    },
    {
     "data": {
      "text/plain": [
       "count    23877.000000\n",
       "mean         1.547137\n",
       "std          1.125747\n",
       "min          0.000000\n",
       "25%          0.000000\n",
       "50%          2.000000\n",
       "75%          3.000000\n",
       "max          3.000000\n",
       "Name: Y, dtype: float64"
      ]
     },
     "execution_count": 5,
     "metadata": {},
     "output_type": "execute_result"
    }
   ],
   "source": [
    "get_new_ccs= True\n",
    "if get_new_ccs:\n",
    "    \n",
    "    K_corpus=15\n",
    "    N=4\n",
    "    \n",
    "    kmedias=MiniBatchKMeans(init='k-means++', n_clusters=K_corpus, batch_size=1000,\n",
    "                      n_init=10, max_no_improvement=10, verbose=0)\n",
    "    kmedias.fit(lecs)\n",
    "    ccvk=kmedias.cluster_centers_\n",
    "    mbk = MiniBatchKMeans(init='k-means++', n_clusters=N, batch_size=1000,\n",
    "                      n_init=10, max_no_improvement=10, verbose=0)\n",
    "    mbk.fit(xyth)\n",
    "    ccxyth=mbk.cluster_centers_\n",
    "else:\n",
    "    ccxyth,ccvk=np.load('ccxyth.npy'),np.load('ccvk.npy')\n",
    "    print(\"CUANTIZANDO SIN RECALCULAR CC\")\n",
    "aus=[]\n",
    "auvks=[]\n",
    "for i,lec in zip(xyth.values, lecs.values):\n",
    "    _, au= quantized(i , ccxyth)\n",
    "    aus.append(au)\n",
    "\n",
    "    auvk= np.power(lec.T-ccvk,2).sum(axis=1,keepdims=True).argmax()\n",
    "    auvks.append(auvk)\n",
    "print(i ,au)\n",
    "data['Y']=aus\n",
    "data['Vk']=auvks\n",
    "obs,est= data['Vk'].values,data['Y'].values\n",
    "data['Y'].describe()   "
   ]
  },
  {
   "cell_type": "code",
   "execution_count": null,
   "metadata": {},
   "outputs": [],
   "source": []
  },
  {
   "cell_type": "code",
   "execution_count": 6,
   "metadata": {},
   "outputs": [
    {
     "data": {
      "text/plain": [
       "((4, 4),\n",
       " array([[4.77727566e-02, 6.27824403e-02, 5.08392511e-02, 3.58295675e-02,\n",
       "         3.43124597e-01, 1.68173015e-01, 0.00000000e+00, 4.35765010e-02,\n",
       "         4.40606843e-02, 1.35571336e-01, 0.00000000e+00, 1.61394448e-04,\n",
       "         5.95545513e-02, 8.55390575e-03, 0.00000000e+00],\n",
       "        [3.32120109e-02, 1.59235669e-02, 5.95996360e-02, 1.94040036e-01,\n",
       "         1.31255687e-01, 5.02729754e-02, 0.00000000e+00, 6.59690628e-02,\n",
       "         8.21201092e-02, 2.74112830e-01, 3.95814377e-02, 0.00000000e+00,\n",
       "         4.50409463e-02, 7.27934486e-03, 1.59235669e-03],\n",
       "        [7.34610123e-02, 2.58549932e-02, 1.46511628e-01, 6.97674419e-02,\n",
       "         2.40766074e-01, 1.13816689e-01, 0.00000000e+00, 8.82352941e-02,\n",
       "         5.06155951e-03, 8.65937073e-02, 0.00000000e+00, 1.45006840e-02,\n",
       "         1.08891929e-01, 2.65389877e-02, 0.00000000e+00],\n",
       "        [1.50627615e-02, 8.85355649e-02, 6.17573222e-02, 1.64853556e-01,\n",
       "         2.32803347e-01, 1.45941423e-01, 0.00000000e+00, 2.14225941e-02,\n",
       "         3.61506276e-02, 1.05774059e-01, 0.00000000e+00, 5.52301255e-03,\n",
       "         8.53556485e-02, 3.68200837e-02, 0.00000000e+00]]))"
      ]
     },
     "execution_count": 6,
     "metadata": {},
     "output_type": "execute_result"
    }
   ],
   "source": [
    "####BAUM WELCH APPROX###############???!?!?!\n",
    "\n",
    "\n",
    "N=est.max()+1 \n",
    "K_corpus= obs.max()+1\n",
    "TRANS=np.zeros((N,N))\n",
    "for i in range (N):\n",
    "    fromTO=[]\n",
    "\n",
    "\n",
    "    indices=np.asarray(np.where(est==i)).ravel()\n",
    "   \n",
    "\n",
    "    for indice in indices:\n",
    "\n",
    "        if (int(indice)==len(est)-1):\n",
    "            \n",
    "            indice=indice-1\n",
    "\n",
    "        fromTO.append(est[indice+1])\n",
    "    fromTO.append(0)\n",
    "    fromTO.append(N-1)\n",
    "    aux=np.asarray(np.bincount(fromTO    ))\n",
    "    aux[0]=aux[0]-1\n",
    "    aux[N-1]=aux[N-1]-1\n",
    "    \n",
    "    TRANS[i,:]=aux\n",
    "TRANS=TRANS/TRANS.sum(axis=1)\n",
    "#####################################3\n",
    "EMIS= np.zeros((N,K_corpus))\n",
    "for Vk in range (K_corpus):\n",
    "\n",
    "    indices=np.asarray(np.where(obs==Vk)).ravel()\n",
    "    estconvk= est[indices]\n",
    "\n",
    "    numestenvk=np.bincount(estconvk)\n",
    "    if (N-len(numestenvk)>0):\n",
    "        numestenvk=np.append(numestenvk, np.zeros(N-len(numestenvk)))\n",
    "    EMIS[:,Vk]=(numestenvk/np.bincount(est))\n",
    "\n",
    "A,B=TRANS,EMIS\n",
    "PI=np.ones(N)/N\n",
    "Modelo1=HMM(A,B,PI)\n",
    "Modelo2= HMM(A,B,PI)\n",
    "Modelo2.B=B+.0000001\n",
    "Modelo2.A=A+.0000001\n",
    "\n",
    "\n",
    "\n",
    "\n",
    "\n",
    "A.shape , EMIS"
   ]
  },
  {
   "cell_type": "code",
   "execution_count": 7,
   "metadata": {},
   "outputs": [],
   "source": [
    "def forw_alg(o_k,Modelo):\n",
    "    PI=Modelo.PI\n",
    "    K= len(o_k)   #Secuencia Observaciones\n",
    "    N= len(Modelo.A)  #número de estados\n",
    "    alpha=np.zeros((N,K))\n",
    "    alpha[:,0]= PI\n",
    "    \n",
    "    for k in range(1,K):\n",
    "        for j in range (N):\n",
    "            alpha_k= alpha[:,k-1]\n",
    "            a= Modelo.A[:,j]\n",
    "            b= Modelo.B[j,o_k[k]]\n",
    "            alpha[j,k]=b*np.dot(alpha_k,a)\n",
    "        #norm=np.linalg.norm(alpha[:,k])\n",
    "        norm=np.sum(alpha[:,k])\n",
    "        #alpha[:,k]/= norm\n",
    "            \n",
    "                #alpha[k,i]=  np.sum( alpha[:,i-1]*Modelo.A[i,:] *   Modelo.B[:,o_k[k]] )\n",
    "    \n",
    "    \n",
    "    \n",
    "\n",
    "    \n",
    "    \n",
    "    \n",
    "    \n",
    "    \n",
    "    return alpha\n",
    "def  backw_alg(o_k,Modelo):\n",
    "    PI=Modelo.PI\n",
    "    K= len(o_k)   #Secuencia Observaciones\n",
    "    N= len(Modelo.A)  #número de estados\n",
    "    beta=np.zeros((N,K))\n",
    "    beta[:,-1]=1\n",
    "    \n",
    "    for t in range(K-1,-1,-1):\n",
    "        for i in range(N):\n",
    "            \n",
    "            beta_t1=beta[:,t+1]\n",
    "            a= Modelo.A[i,:]\n",
    "            b= Modelo.B[i,o_k[t]]\n",
    "            beta[i,t]= b*np.dot(a,beta_t1)\n",
    "       \n",
    "        \n",
    "            \n",
    "\n",
    "    \n",
    "    \n",
    "    \n",
    "    return beta\n",
    "    "
   ]
  },
  {
   "cell_type": "code",
   "execution_count": null,
   "metadata": {},
   "outputs": [],
   "source": []
  },
  {
   "cell_type": "code",
   "execution_count": 8,
   "metadata": {},
   "outputs": [],
   "source": [
    "def forw_alg_norm(o_k,Modelo):\n",
    "    #MATRIX NOTATION\n",
    "    PI=Modelo.PI\n",
    "    K= len(o_k)   #Secuencia Observaciones\n",
    "    N= len(Modelo.A)  #número de estados\n",
    "    alpha=np.zeros((N,K))\n",
    "    c_k= np.zeros(K)\n",
    "    alpha[:,0]= PI\n",
    "    c_k[0]=1\n",
    "    for k in range(1,K):\n",
    "        alpha_k= alpha[:,k-1]\n",
    "        a= Modelo.A[:,:]\n",
    "        b= Modelo.B[:,o_k[k]]\n",
    "        alpha[:,k]=(b*np.dot(alpha_k,a))* c_k[k-1]\n",
    "        c_k[k]=1/alpha[:,k].sum()\n",
    "    return alpha #,c_k\n",
    "def  backw_alg(o_k,Modelo):\n",
    "    #MATRIX NOTATION\n",
    "\n",
    "    PI=Modelo.PI\n",
    "    K= len(o_k)   #Secuencia Observaciones\n",
    "    N= len(Modelo.A)  #número de estados\n",
    "    beta=np.zeros((N,K))\n",
    "    beta[:,-1]=1\n",
    "    for t in range(K-2,-1,-1):\n",
    "        beta_t1=beta[:,t+1]\n",
    "        beta_t1\n",
    "        a= Modelo.A[:,:]\n",
    "        b= Modelo.B[:,o_k[t]]\n",
    "        beta[:,t]= b*np.dot(a,beta_t1)\n",
    "    return beta\n",
    "    "
   ]
  },
  {
   "cell_type": "code",
   "execution_count": 9,
   "metadata": {},
   "outputs": [
    {
     "data": {
      "text/plain": [
       "(array([[9.93867011e-01, 2.27479527e-04, 3.83036936e-03, 1.50627615e-03],\n",
       "        [1.61394448e-04, 9.97725205e-01, 9.57592339e-04, 3.34728033e-04],\n",
       "        [5.97159458e-03, 0.00000000e+00, 9.93844049e-01, 1.33891213e-03],\n",
       "        [0.00000000e+00, 2.04731574e-03, 1.36798906e-03, 9.96820084e-01]]),\n",
       " array([[4.77727566e-02, 6.27824403e-02, 5.08392511e-02, 3.58295675e-02,\n",
       "         3.43124597e-01, 1.68173015e-01, 0.00000000e+00, 4.35765010e-02,\n",
       "         4.40606843e-02, 1.35571336e-01, 0.00000000e+00, 1.61394448e-04,\n",
       "         5.95545513e-02, 8.55390575e-03, 0.00000000e+00],\n",
       "        [3.32120109e-02, 1.59235669e-02, 5.95996360e-02, 1.94040036e-01,\n",
       "         1.31255687e-01, 5.02729754e-02, 0.00000000e+00, 6.59690628e-02,\n",
       "         8.21201092e-02, 2.74112830e-01, 3.95814377e-02, 0.00000000e+00,\n",
       "         4.50409463e-02, 7.27934486e-03, 1.59235669e-03],\n",
       "        [7.34610123e-02, 2.58549932e-02, 1.46511628e-01, 6.97674419e-02,\n",
       "         2.40766074e-01, 1.13816689e-01, 0.00000000e+00, 8.82352941e-02,\n",
       "         5.06155951e-03, 8.65937073e-02, 0.00000000e+00, 1.45006840e-02,\n",
       "         1.08891929e-01, 2.65389877e-02, 0.00000000e+00],\n",
       "        [1.50627615e-02, 8.85355649e-02, 6.17573222e-02, 1.64853556e-01,\n",
       "         2.32803347e-01, 1.45941423e-01, 0.00000000e+00, 2.14225941e-02,\n",
       "         3.61506276e-02, 1.05774059e-01, 0.00000000e+00, 5.52301255e-03,\n",
       "         8.53556485e-02, 3.68200837e-02, 0.00000000e+00]]))"
      ]
     },
     "execution_count": 9,
     "metadata": {},
     "output_type": "execute_result"
    }
   ],
   "source": [
    "#CALL BAUM WELCH\n",
    "A,B"
   ]
  },
  {
   "cell_type": "code",
   "execution_count": 116,
   "metadata": {},
   "outputs": [],
   "source": [
    "o_k= obs[:30]\n",
    "alpha,beta=forw_alg(o_k,Modelo1),backw_alg(o_k,Modelo1)"
   ]
  },
  {
   "cell_type": "code",
   "execution_count": 117,
   "metadata": {},
   "outputs": [
    {
     "data": {
      "text/plain": [
       "((4, 30), (4, 30))"
      ]
     },
     "execution_count": 117,
     "metadata": {},
     "output_type": "execute_result"
    }
   ],
   "source": [
    "alpha.shape,beta.shape\n"
   ]
  },
  {
   "cell_type": "markdown",
   "metadata": {},
   "source": [
    "PR(O|Modelo) =  P  ; likelihood Lo(M)"
   ]
  },
  {
   "cell_type": "code",
   "execution_count": 118,
   "metadata": {},
   "outputs": [
    {
     "data": {
      "text/plain": [
       "4.3112328732046817e-29"
      ]
     },
     "execution_count": 118,
     "metadata": {},
     "output_type": "execute_result"
    }
   ],
   "source": [
    "T=len(o_k)\n",
    "t=len(o_k)-1\n",
    "P= alpha[:,t].sum()\n",
    "P"
   ]
  },
  {
   "cell_type": "markdown",
   "metadata": {},
   "source": [
    "gamma_ij=E{ transitions from state i to j conditioned to O}"
   ]
  },
  {
   "cell_type": "code",
   "execution_count": 119,
   "metadata": {},
   "outputs": [
    {
     "data": {
      "text/plain": [
       "array([[8.15310150e-01, 6.11231373e-05, 2.35294276e-03, 1.11601401e-03],\n",
       "       [1.07091372e-07, 4.54472653e-04, 1.05009157e-06, 2.99158850e-07],\n",
       "       [1.02881152e-01, 0.00000000e+00, 2.46842909e+01, 2.86802604e-02],\n",
       "       [0.00000000e+00, 4.19718257e-04, 6.63001630e-04, 4.59069118e-01]])"
      ]
     },
     "execution_count": 119,
     "metadata": {},
     "output_type": "execute_result"
    }
   ],
   "source": [
    "gamma=np.zeros((N,N,T))\n",
    "for t in range(T-1):\n",
    "    for j in range(N):\n",
    "        for i in range(N):\n",
    "            a=Modelo1.A[i,j]\n",
    "            b=Modelo1.B[j,o_k[t]]\n",
    "            gamma[i,j,t]=alpha[i,t]*a*b*beta[i,t+1]\n",
    "gamma=np.sum(gamma,axis=2)/P\n",
    "gamma"
   ]
  },
  {
   "cell_type": "markdown",
   "metadata": {},
   "source": [
    "gamma_i=E{Num of trans out of gamma_i out of ith state given O} = SUM j gamma_ij"
   ]
  },
  {
   "cell_type": "code",
   "execution_count": 120,
   "metadata": {},
   "outputs": [
    {
     "data": {
      "text/plain": [
       "array([1.01286739e+00, 1.11603197e-03, 2.55998474e+01, 5.11403678e-01])"
      ]
     },
     "execution_count": 120,
     "metadata": {},
     "output_type": "execute_result"
    }
   ],
   "source": [
    "gamma=np.sum(alpha*beta ,axis=1)/P\n",
    "gamma"
   ]
  },
  {
   "cell_type": "code",
   "execution_count": 121,
   "metadata": {},
   "outputs": [
    {
     "data": {
      "text/plain": [
       "array([[9.93867011e-01, 2.27479527e-04, 3.83036936e-03, 1.50627615e-03],\n",
       "       [1.61394448e-04, 9.97725205e-01, 9.57592339e-04, 3.34728033e-04],\n",
       "       [5.97159458e-03, 0.00000000e+00, 9.93844049e-01, 1.33891213e-03],\n",
       "       [0.00000000e+00, 2.04731574e-03, 1.36798906e-03, 9.96820084e-01]])"
      ]
     },
     "execution_count": 121,
     "metadata": {},
     "output_type": "execute_result"
    }
   ],
   "source": [
    "A"
   ]
  },
  {
   "cell_type": "code",
   "execution_count": 178,
   "metadata": {},
   "outputs": [],
   "source": [
    "lam=.5\n",
    "eta=.5\n",
    "W,V=np.zeros(A.shape),np.zeros(B.shape)\n",
    "DW,DV=np.zeros(A.shape),np.zeros(B.shape)"
   ]
  },
  {
   "cell_type": "code",
   "execution_count": 234,
   "metadata": {},
   "outputs": [
    {
     "data": {
      "text/plain": [
       "(array([[0.96561672, 0.01126016, 0.01169299, 0.01143013],\n",
       "        [0.02195431, 0.93402663, 0.022044  , 0.02197506],\n",
       "        [0.01450709, 0.01285771, 0.95947918, 0.01315601],\n",
       "        [0.01140059, 0.01200507, 0.01160734, 0.964987  ]]),\n",
       " array([[0.06666667, 0.06666667, 0.06666667, 0.06666667, 0.06666667,\n",
       "         0.06666667, 0.06666667, 0.06666667, 0.06666667, 0.06666667,\n",
       "         0.06666667, 0.06666667, 0.06666667, 0.06666667, 0.06666667],\n",
       "        [0.06666667, 0.06666667, 0.06666667, 0.06666667, 0.06666667,\n",
       "         0.06666667, 0.06666667, 0.06666667, 0.06666667, 0.06666667,\n",
       "         0.06666667, 0.06666667, 0.06666667, 0.06666667, 0.06666667],\n",
       "        [0.06666667, 0.06666667, 0.06666667, 0.06666667, 0.06666667,\n",
       "         0.06666667, 0.06666667, 0.06666667, 0.06666667, 0.06666667,\n",
       "         0.06666667, 0.06666667, 0.06666667, 0.06666667, 0.06666667],\n",
       "        [0.06666667, 0.06666667, 0.06666667, 0.06666667, 0.06666667,\n",
       "         0.06666667, 0.06666667, 0.06666667, 0.06666667, 0.06666667,\n",
       "         0.06666667, 0.06666667, 0.06666667, 0.06666667, 0.06666667]]))"
      ]
     },
     "execution_count": 234,
     "metadata": {},
     "output_type": "execute_result"
    }
   ],
   "source": [
    "A_gd=np.exp(lam*W)\n",
    "for i in range(N):\n",
    "    aux=A_gd[i,:].sum()\n",
    "    A_gd[i,:]=A_gd[i,:]/aux\n",
    "\n",
    "\n",
    "B_gd= np.exp(lam*V)\n",
    "for i in range(N):\n",
    "    aux=B_gd[i,:].sum()\n",
    "    B_gd[i,:]=B_gd[i,:]/aux\n",
    "\n",
    "\n",
    "A_gd , B_gd"
   ]
  },
  {
   "cell_type": "code",
   "execution_count": 235,
   "metadata": {},
   "outputs": [],
   "source": [
    "Modelo_gd=HMM(A_gd,B_gd,PI)"
   ]
  },
  {
   "cell_type": "code",
   "execution_count": 236,
   "metadata": {},
   "outputs": [],
   "source": [
    "o_k= obs[60:90]\n",
    "alpha,beta=forw_alg(o_k,Modelo_gd),backw_alg(o_k,Modelo_gd)\n",
    "LoM = alpha[:,-1].sum()"
   ]
  },
  {
   "cell_type": "code",
   "execution_count": 237,
   "metadata": {},
   "outputs": [
    {
     "data": {
      "text/plain": [
       "7.822642576269835e-35"
      ]
     },
     "execution_count": 237,
     "metadata": {},
     "output_type": "execute_result"
    }
   ],
   "source": [
    "P=LoM\n",
    "P"
   ]
  },
  {
   "cell_type": "code",
   "execution_count": 238,
   "metadata": {},
   "outputs": [
    {
     "data": {
      "text/plain": [
       "array([[1.67815205e+01, 6.75836162e-03, 4.16854360e-02, 2.01827984e-02],\n",
       "       [1.90785639e-03, 1.96945890e+01, 7.31830995e-03, 3.15799032e-03],\n",
       "       [9.33045726e-02, 0.00000000e+00, 1.00146115e+01, 1.66199335e-02],\n",
       "       [0.00000000e+00, 5.96650962e-02, 1.46370942e-02, 1.31332170e+01]])"
      ]
     },
     "execution_count": 238,
     "metadata": {},
     "output_type": "execute_result"
    }
   ],
   "source": [
    "gamma=np.zeros((N,N,T))\n",
    "for t in range(T-1):\n",
    "    for j in range(N):\n",
    "        for i in range(N):\n",
    "            a=Modelo1.A[i,j]\n",
    "            b=Modelo1.B[j,o_k[t]]\n",
    "            gamma[i,j,t]=alpha[i,t]*a*b*beta[i,t+1]\n",
    "gamma=np.sum(gamma,axis=2)/P\n",
    "gamma"
   ]
  },
  {
   "cell_type": "code",
   "execution_count": 239,
   "metadata": {},
   "outputs": [],
   "source": [
    "n_ij_o, n_i_o=gamma , gamma.sum(axis=1)"
   ]
  },
  {
   "cell_type": "code",
   "execution_count": 240,
   "metadata": {},
   "outputs": [],
   "source": [
    "for i in range (N):\n",
    "    for j in range (N):\n",
    "         DW[i,j]=  (eta)* (  n_ij_o[i,j] -(n_i_o[i]* A_gd[i,j]))"
   ]
  },
  {
   "cell_type": "code",
   "execution_count": 241,
   "metadata": {},
   "outputs": [
    {
     "data": {
      "text/plain": [
       "array([[ 0.25536834, -0.09148845, -0.0776716 , -0.08620829],\n",
       "       [-0.21537256,  0.6438756 , -0.21355109, -0.21495194],\n",
       "       [-0.02678651, -0.06508919,  0.15016498, -0.05828928],\n",
       "       [-0.07528674, -0.04944608, -0.0693335 ,  0.19406632]])"
      ]
     },
     "execution_count": 241,
     "metadata": {},
     "output_type": "execute_result"
    }
   ],
   "source": [
    "DW"
   ]
  },
  {
   "cell_type": "code",
   "execution_count": 242,
   "metadata": {},
   "outputs": [
    {
     "data": {
      "text/plain": [
       "array([[ 6.90626237, -2.34358761, -2.25433224, -2.30834251],\n",
       "       [-2.09315415,  6.26717706, -2.0831787 , -2.09084421],\n",
       "       [-2.01343649, -2.2931269 ,  6.54702077, -2.24045738],\n",
       "       [-2.32933008, -2.20016028, -2.28743211,  6.81692247]])"
      ]
     },
     "execution_count": 242,
     "metadata": {},
     "output_type": "execute_result"
    }
   ],
   "source": [
    "W=W + DW\n",
    "W"
   ]
  },
  {
   "cell_type": "code",
   "execution_count": null,
   "metadata": {},
   "outputs": [],
   "source": []
  },
  {
   "cell_type": "code",
   "execution_count": null,
   "metadata": {},
   "outputs": [],
   "source": []
  },
  {
   "cell_type": "code",
   "execution_count": 167,
   "metadata": {},
   "outputs": [
    {
     "data": {
      "text/plain": [
       "1.0"
      ]
     },
     "execution_count": 167,
     "metadata": {},
     "output_type": "execute_result"
    }
   ],
   "source": []
  },
  {
   "cell_type": "code",
   "execution_count": 154,
   "metadata": {},
   "outputs": [
    {
     "data": {
      "text/plain": [
       "(array([[0.73329418, 0.12383833, 0.05581707, 0.06879585],\n",
       "        [0.11025501, 0.53650098, 0.06896849, 0.08547578],\n",
       "        [0.07241293, 0.10008874, 0.8654358 , 0.05559381],\n",
       "        [0.07859353, 0.11030267, 0.04924024, 0.81690138]]),\n",
       " array([[0.06666667, 0.06666667, 0.06666667, 0.06666667, 0.06666667,\n",
       "         0.06666667, 0.06666667, 0.06666667, 0.06666667, 0.06666667,\n",
       "         0.06666667, 0.06666667, 0.06666667, 0.06666667, 0.06666667],\n",
       "        [0.06666667, 0.06666667, 0.06666667, 0.06666667, 0.06666667,\n",
       "         0.06666667, 0.06666667, 0.06666667, 0.06666667, 0.06666667,\n",
       "         0.06666667, 0.06666667, 0.06666667, 0.06666667, 0.06666667],\n",
       "        [0.06666667, 0.06666667, 0.06666667, 0.06666667, 0.06666667,\n",
       "         0.06666667, 0.06666667, 0.06666667, 0.06666667, 0.06666667,\n",
       "         0.06666667, 0.06666667, 0.06666667, 0.06666667, 0.06666667],\n",
       "        [0.06666667, 0.06666667, 0.06666667, 0.06666667, 0.06666667,\n",
       "         0.06666667, 0.06666667, 0.06666667, 0.06666667, 0.06666667,\n",
       "         0.06666667, 0.06666667, 0.06666667, 0.06666667, 0.06666667]]))"
      ]
     },
     "execution_count": 154,
     "metadata": {},
     "output_type": "execute_result"
    }
   ],
   "source": []
  },
  {
   "cell_type": "code",
   "execution_count": 169,
   "metadata": {},
   "outputs": [
    {
     "data": {
      "text/plain": [
       "array([[4.86719515, 0.58717424, 0.59375436, 0.58931492],\n",
       "       [0.73181084, 2.54379677, 0.7336526 , 0.73219758],\n",
       "       [0.4806364 , 0.47456652, 9.20607736, 0.47622438],\n",
       "       [0.52165976, 0.52299548, 0.52379327, 6.99769199]])"
      ]
     },
     "execution_count": 169,
     "metadata": {},
     "output_type": "execute_result"
    }
   ],
   "source": []
  },
  {
   "cell_type": "code",
   "execution_count": 172,
   "metadata": {},
   "outputs": [],
   "source": []
  },
  {
   "cell_type": "code",
   "execution_count": 176,
   "metadata": {},
   "outputs": [
    {
     "data": {
      "text/plain": [
       "array([1., 1., 1., 1.])"
      ]
     },
     "execution_count": 176,
     "metadata": {},
     "output_type": "execute_result"
    }
   ],
   "source": []
  },
  {
   "cell_type": "markdown",
   "metadata": {},
   "source": []
  },
  {
   "cell_type": "code",
   "execution_count": 164,
   "metadata": {},
   "outputs": [
    {
     "data": {
      "text/plain": [
       "0.0889894419306184"
      ]
     },
     "execution_count": 164,
     "metadata": {},
     "output_type": "execute_result"
    }
   ],
   "source": []
  },
  {
   "cell_type": "code",
   "execution_count": null,
   "metadata": {},
   "outputs": [],
   "source": []
  }
 ],
 "metadata": {
  "kernelspec": {
   "display_name": "Python 2",
   "language": "python",
   "name": "python2"
  },
  "language_info": {
   "codemirror_mode": {
    "name": "ipython",
    "version": 2
   },
   "file_extension": ".py",
   "mimetype": "text/x-python",
   "name": "python",
   "nbconvert_exporter": "python",
   "pygments_lexer": "ipython2",
   "version": "2.7.12"
  }
 },
 "nbformat": 4,
 "nbformat_minor": 2
}
